{
 "cells": [
  {
   "cell_type": "code",
   "execution_count": null,
   "metadata": {},
   "outputs": [
    {
     "name": "stderr",
     "output_type": "stream",
     "text": [
      "[*********************100%***********************]  5 of 5 completed\n"
     ]
    }
   ],
   "source": [
    "import yfinance as yf\n",
    "import pandas as pd\n",
    "\n",
    "# Scarica dati storici per una lista di tickers\n",
    "def download_sp500_data(tickers, start_date, end_date):\n",
    "    data = yf.download(tickers, start=start_date, end=end_date, group_by='ticker', auto_adjust=True)\n",
    "    return {ticker: data[ticker]['Close'].dropna() for ticker in tickers}\n",
    "\n",
    "# Parametri\n",
    "tickers = [\n",
    "    'AAPL', 'MSFT', 'GOOGL', 'AMZN', 'META',  # Tech Giants\n",
    "    'TSLA', 'NVDA', 'NFLX', 'ADBE', 'CRM',    # Technology & Services\n",
    "    'JNJ', 'PFE', 'MRK', 'ABBV', 'TMO',       # Healthcare\n",
    "    'XOM', 'CVX', 'COP', 'PSX', 'SLB',        # Energy\n",
    "    'BAC', 'JPM', 'C', 'GS', 'MS',            # Financials\n",
    "    'KO', 'PEP', 'MCD', 'PG', 'WMT'           # Consumer Goods\n",
    "]\n",
    "\n",
    "start_date = \"2000-01-01\"\n",
    "end_date = \"2023-12-31\"\n",
    "\n",
    "# Scarica i dati\n",
    "sp500_data = download_sp500_data(tickers, start_date, end_date)"
   ]
  },
  {
   "cell_type": "code",
   "execution_count": 5,
   "metadata": {},
   "outputs": [
    {
     "name": "stdout",
     "output_type": "stream",
     "text": [
      "Numero totale di segmenti generati: 510\n"
     ]
    }
   ],
   "source": [
    "# Crea segmenti di lunghezza fissa\n",
    "def create_segments(data, window_size=100, overlap=0.5):\n",
    "    step = int(window_size * (1 - overlap))  # Calcola passo in base all'overlap\n",
    "    segments = []\n",
    "    for ticker, series in data.items():\n",
    "        series = series.to_numpy()\n",
    "        for i in range(0, len(series) - window_size + 1, step):\n",
    "            segment = series[i:i + window_size]\n",
    "            segments.append({'ticker': ticker, 'segment': segment})\n",
    "    return segments\n",
    "\n",
    "# Genera segmenti (50% overlap per aumentare i campioni)\n",
    "segments = create_segments(sp500_data, window_size=100, overlap=0.5)\n",
    "print(f\"Numero totale di segmenti generati: {len(segments)}\")"
   ]
  },
  {
   "cell_type": "code",
   "execution_count": 7,
   "metadata": {},
   "outputs": [
    {
     "name": "stderr",
     "output_type": "stream",
     "text": [
      "/Users/roberto/.pyenv/versions/3.11.6/lib/python3.11/site-packages/pywt/_cwt.py:117: FutureWarning: Wavelets from the family cmor, without parameters specified in the name are deprecated. The name should follow the format cmorB-C, where B and C are floats representing the bandwidth frequency and center frequency, respectively (example, for backward compatibility: cmor = cmor1.0-0.5).\n",
      "  wavelet = DiscreteContinuousWavelet(wavelet)\n"
     ]
    }
   ],
   "source": [
    "import numpy as np\n",
    "import pywt\n",
    "import matplotlib.pyplot as plt\n",
    "import os\n",
    "\n",
    "# Crea directory per salvare le immagini\n",
    "output_dir = \"/Users/roberto/Desktop/spectograms\"\n",
    "os.makedirs(output_dir, exist_ok=True)\n",
    "\n",
    "# Genera spettrogrammi per i segmenti\n",
    "def generate_and_save_spectrograms(segments, wavelet='cmor', scale_range=(1, 64)):\n",
    "    for idx, segment_data in enumerate(segments):\n",
    "        ticker = segment_data['ticker']\n",
    "        segment = segment_data['segment']\n",
    "\n",
    "        # Genera Continuous Wavelet Transform (CWT)\n",
    "        scales = np.arange(scale_range[0], scale_range[1])\n",
    "        coefficients, frequencies = pywt.cwt(segment, scales, wavelet)\n",
    "\n",
    "        # Salva lo spettrogramma\n",
    "        plt.figure(figsize=(8, 6))\n",
    "        plt.imshow(\n",
    "            np.abs(coefficients), \n",
    "            extent=[0, len(segment), scale_range[0], scale_range[1]], \n",
    "            cmap='jet', \n",
    "            aspect='auto', \n",
    "            origin='lower'\n",
    "        )\n",
    "        plt.colorbar(label='Magnitudo')\n",
    "        plt.title(f\"Spettrogramma - {ticker} - Segment {idx}\")\n",
    "        plt.xlabel(\"Tempo\")\n",
    "        plt.ylabel(\"Scala\")\n",
    "        \n",
    "        # Salva l'immagine\n",
    "        filename = f\"{output_dir}/{ticker}_segment_{idx}.png\"\n",
    "        plt.savefig(filename)\n",
    "        plt.close()\n",
    "\n",
    "# Genera spettrogrammi\n",
    "generate_and_save_spectrograms(segments)"
   ]
  }
 ],
 "metadata": {
  "kernelspec": {
   "display_name": "3.11.6",
   "language": "python",
   "name": "python3"
  },
  "language_info": {
   "codemirror_mode": {
    "name": "ipython",
    "version": 3
   },
   "file_extension": ".py",
   "mimetype": "text/x-python",
   "name": "python",
   "nbconvert_exporter": "python",
   "pygments_lexer": "ipython3",
   "version": "3.11.6"
  }
 },
 "nbformat": 4,
 "nbformat_minor": 2
}
