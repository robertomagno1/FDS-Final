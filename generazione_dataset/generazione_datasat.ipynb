{
 "cells": [
  {
   "cell_type": "code",
   "execution_count": 7,
   "metadata": {},
   "outputs": [
    {
     "name": "stdout",
     "output_type": "stream",
     "text": [
      "Saved MSTR_data.csv\n",
      "Saved AAPL_data.csv\n",
      "Saved TSLA_data.csv\n",
      "Saved INTC_data.csv\n",
      "Saved MCD_data.csv\n",
      "Saved KO_data.csv\n",
      "Saved NKE_data.csv\n"
     ]
    }
   ],
   "source": [
    "import yfinance as yf\n",
    "import pandas as pd\n",
    "\n",
    "# List of stocks\n",
    "stocks = [\"MSTR\", \"AAPL\", \"TSLA\", \"INTC\", \"MCD\", \"KO\", \"NKE\"]\n",
    "\n",
    "# Function to fetch and save data for each stock\n",
    "def fetch_stock_data(stocks):\n",
    "    for stock in stocks:\n",
    "        ticker = yf.Ticker(stock)\n",
    "        # Fetch historical market data\n",
    "        hist = ticker.history(period=\"1y\")  # Adjust the period as needed\n",
    "        # Adding extra details to the dataset\n",
    "        hist['Ticker'] = stock\n",
    "        hist['Market Cap'] = ticker.info.get(\"marketCap\", \"N/A\")\n",
    "        hist['P/E Ratio'] = ticker.info.get(\"trailingPE\", \"N/A\")\n",
    "        hist['Dividend Yield'] = ticker.info.get(\"dividendYield\", \"N/A\")\n",
    "        hist['52-Week High'] = ticker.info.get(\"fiftyTwoWeekHigh\", \"N/A\")\n",
    "        hist['52-Week Low'] = ticker.info.get(\"fiftyTwoWeekLow\", \"N/A\")\n",
    "        \n",
    "        # Save to CSV\n",
    "        filename = f\"{stock}_data.csv\"\n",
    "        hist.to_csv(filename)\n",
    "        print(f\"Saved {filename}\")\n",
    "\n",
    "# Run the function\n",
    "fetch_stock_data(stocks)\n"
   ]
  },
  {
   "cell_type": "code",
   "execution_count": 9,
   "metadata": {},
   "outputs": [
    {
     "data": {
      "text/plain": [
       "<bound method NDFrame.head of                           Date        Open        High         Low  \\\n",
       "0    2023-12-13 00:00:00-05:00  194.138900  197.034717  193.900080   \n",
       "1    2023-12-14 00:00:00-05:00  197.054638  198.646829  195.203705   \n",
       "2    2023-12-15 00:00:00-05:00  196.566998  197.432752  196.039583   \n",
       "3    2023-12-18 00:00:00-05:00  195.134019  195.671395  193.442310   \n",
       "4    2023-12-19 00:00:00-05:00  195.203708  195.989850  194.935020   \n",
       "..                         ...         ...         ...         ...   \n",
       "248  2024-12-09 00:00:00-05:00  241.830002  247.240005  241.750000   \n",
       "249  2024-12-10 00:00:00-05:00  246.889999  248.210007  245.339996   \n",
       "250  2024-12-11 00:00:00-05:00  247.960007  250.800003  246.259995   \n",
       "251  2024-12-12 00:00:00-05:00  246.889999  248.740005  245.679993   \n",
       "252  2024-12-13 00:00:00-05:00  247.880005  249.290207  246.339996   \n",
       "\n",
       "          Close     Volume  Dividends  Stock Splits Ticker     Market Cap  \\\n",
       "0    196.994919   70404200        0.0           0.0   AAPL  3725594198016   \n",
       "1    197.144196   66831600        0.0           0.0   AAPL  3725594198016   \n",
       "2    196.606812  128256700        0.0           0.0   AAPL  3725594198016   \n",
       "3    194.934998   55751900        0.0           0.0   AAPL  3725594198016   \n",
       "4    195.979904   40714100        0.0           0.0   AAPL  3725594198016   \n",
       "..          ...        ...        ...           ...    ...            ...   \n",
       "248  246.750000   44649200        0.0           0.0   AAPL  3725594198016   \n",
       "249  247.770004   36914800        0.0           0.0   AAPL  3725594198016   \n",
       "250  246.490005   45205800        0.0           0.0   AAPL  3725594198016   \n",
       "251  247.960007   32667700        0.0           0.0   AAPL  3725594198016   \n",
       "252  246.470200   12520207        0.0           0.0   AAPL  3725594198016   \n",
       "\n",
       "     P/E Ratio  Dividend Yield  52-Week High  52-Week Low  \n",
       "0     40.53786           0.004         250.8       164.08  \n",
       "1     40.53786           0.004         250.8       164.08  \n",
       "2     40.53786           0.004         250.8       164.08  \n",
       "3     40.53786           0.004         250.8       164.08  \n",
       "4     40.53786           0.004         250.8       164.08  \n",
       "..         ...             ...           ...          ...  \n",
       "248   40.53786           0.004         250.8       164.08  \n",
       "249   40.53786           0.004         250.8       164.08  \n",
       "250   40.53786           0.004         250.8       164.08  \n",
       "251   40.53786           0.004         250.8       164.08  \n",
       "252   40.53786           0.004         250.8       164.08  \n",
       "\n",
       "[253 rows x 14 columns]>"
      ]
     },
     "execution_count": 9,
     "metadata": {},
     "output_type": "execute_result"
    }
   ],
   "source": [
    "aapl = pd.read_csv(\"AAPL_data.csv\")\n",
    "aapl.head"
   ]
  },
  {
   "cell_type": "code",
   "execution_count": 10,
   "metadata": {},
   "outputs": [],
   "source": [
    "\n",
    "tsla = pd.read_csv(\"TSLA_data.csv\")\n",
    "intc = pd.read_csv(\"INTC_data.csv\")\n",
    "mcd = pd.read_csv(\"MCD_data.csv\")\n",
    "ko = pd.read_csv(\"KO_data.csv\")\n",
    "nke = pd.read_csv(\"NKE_data.csv\")"
   ]
  },
  {
   "cell_type": "code",
   "execution_count": null,
   "metadata": {},
   "outputs": [],
   "source": []
  }
 ],
 "metadata": {
  "kernelspec": {
   "display_name": "3.11.6",
   "language": "python",
   "name": "python3"
  },
  "language_info": {
   "codemirror_mode": {
    "name": "ipython",
    "version": 3
   },
   "file_extension": ".py",
   "mimetype": "text/x-python",
   "name": "python",
   "nbconvert_exporter": "python",
   "pygments_lexer": "ipython3",
   "version": "3.11.6"
  }
 },
 "nbformat": 4,
 "nbformat_minor": 2
}
