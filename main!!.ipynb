{
 "cells": [
  {
   "cell_type": "code",
   "execution_count": 2,
   "metadata": {},
   "outputs": [],
   "source": [
    "import yfinance as yf\n",
    "import numpy as np\n",
    "import pandas as pd\n",
    "import pywt\n",
    "import matplotlib.pyplot as plt\n",
    "import os\n",
    "from datetime import datetime"
   ]
  },
  {
   "cell_type": "code",
   "execution_count": null,
   "metadata": {},
   "outputs": [
    {
     "name": "stderr",
     "output_type": "stream",
     "text": [
      "[*********************100%***********************]  7 of 7 completed\n",
      "[*********************100%***********************]  7 of 7 completed\n",
      "/Users/roberto/.pyenv/versions/3.11.6/lib/python3.11/site-packages/pywt/_cwt.py:117: FutureWarning: Wavelets from the family cmor, without parameters specified in the name are deprecated. The name should follow the format cmorB-C, where B and C are floats representing the bandwidth frequency and center frequency, respectively (example, for backward compatibility: cmor = cmor1.0-0.5).\n",
      "  wavelet = DiscreteContinuousWavelet(wavelet)\n"
     ]
    }
   ],
   "source": [
    "# Function to download stock data\n",
    "def download_stock_data(stocks, start_date, end_date):\n",
    "    data = yf.download(stocks, start=start_date, end=end_date, group_by='ticker', auto_adjust=True)\n",
    "    return {ticker: data[ticker]['Close'].dropna() for ticker in stocks}\n",
    "\n",
    "# Function to create segments\n",
    "def create_segments(data, window_size=100, overlap=0.5):\n",
    "    step = int(window_size * (1 - overlap))  # Calculate step size based on overlap\n",
    "    segments = []\n",
    "    for ticker, series in data.items():\n",
    "        series = series.to_numpy()\n",
    "        for i in range(0, len(series) - window_size + 1, step):\n",
    "            segment = series[i:i + window_size]\n",
    "            segments.append({'ticker': ticker, 'segment': segment})\n",
    "    return segments\n",
    "\n",
    "# Function to generate and save spectrograms\n",
    "def generate_and_save_spectrograms(segments, output_dir, wavelet='cmor', scale_range=(1, 64)):\n",
    "    for idx, segment_data in enumerate(segments):\n",
    "        ticker = segment_data['ticker']\n",
    "        segment = segment_data['segment']\n",
    "        \n",
    "        # Create folder for each stock if it doesn't exist\n",
    "        ticker_dir = os.path.join(output_dir, ticker)\n",
    "        os.makedirs(ticker_dir, exist_ok=True)\n",
    "        \n",
    "        # Generate Continuous Wavelet Transform (CWT)\n",
    "        scales = np.arange(scale_range[0], scale_range[1])\n",
    "        coefficients, frequencies = pywt.cwt(segment, scales, wavelet)\n",
    "        \n",
    "        # Save the spectrogram\n",
    "        plt.figure(figsize=(8, 6))\n",
    "        plt.imshow(\n",
    "            np.abs(coefficients), \n",
    "            extent=[0, len(segment), scale_range[0], scale_range[1]], \n",
    "            cmap='jet', \n",
    "            aspect='auto', \n",
    "            origin='lower'\n",
    "        )\n",
    "        plt.colorbar(label='Magnitude')\n",
    "        plt.title(f\"Spectrogram - {ticker} - Segment {idx}\")\n",
    "        plt.xlabel(\"Time\")\n",
    "        plt.ylabel(\"Scale\")\n",
    "        \n",
    "        # Save the image\n",
    "        filename = os.path.join(ticker_dir, f\"{ticker}_segment_{idx}.png\")\n",
    "        plt.savefig(filename)\n",
    "        plt.close()\n",
    "\n",
    "# Define stock names and date ranges\n",
    "stocks = [\"MSTR\", \"AAPL\", \"TSLA\", \"INTC\", \"MCD\", \"KO\", \"NKE\"]\n",
    "train_start_date = \"2003-01-01\"\n",
    "train_end_date = \"2016-12-31\"\n",
    "test_start_date = \"2017-01-01\"\n",
    "test_end_date = \"2019-12-31\"\n",
    "\n",
    "# Directories for saving spectrograms\n",
    "train_output_dir = \"/Users/roberto/Desktop/SPECTOGRAMSSS/train\"\n",
    "test_output_dir = \"/Users/roberto/Desktop/SPECTOGRAMSSS/test\"\n",
    "\n",
    "# Download data for training and testing\n",
    "train_data = download_stock_data(stocks, train_start_date, train_end_date)\n",
    "test_data = download_stock_data(stocks, test_start_date, test_end_date)\n",
    "\n",
    "# Generate segments for training and testing\n",
    "train_segments = create_segments(train_data, window_size=100, overlap=0.5)\n",
    "test_segments = create_segments(test_data, window_size=100, overlap=0.5)\n",
    "\n",
    "# Generate and save spectrograms\n",
    "generate_and_save_spectrograms(train_segments, train_output_dir)\n",
    "generate_and_save_spectrograms(test_segments, test_output_dir)"
   ]
  },
  {
   "cell_type": "code",
   "execution_count": null,
   "metadata": {},
   "outputs": [],
   "source": []
  }
 ],
 "metadata": {
  "kernelspec": {
   "display_name": "3.11.6",
   "language": "python",
   "name": "python3"
  },
  "language_info": {
   "codemirror_mode": {
    "name": "ipython",
    "version": 3
   },
   "file_extension": ".py",
   "mimetype": "text/x-python",
   "name": "python",
   "nbconvert_exporter": "python",
   "pygments_lexer": "ipython3",
   "version": "3.11.6"
  }
 },
 "nbformat": 4,
 "nbformat_minor": 2
}
